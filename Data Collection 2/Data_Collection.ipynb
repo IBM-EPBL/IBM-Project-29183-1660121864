Analyze the data

import pandas as pd
import numpy as np

import seaborn as sns
import matplotlib.pyplot as plt
data=sns.load_dataset('tips')

data.head()
total_bill	tip	sex	smoker	day	time	size
0	16.99	1.01	Female	No	Sun	Dinner	2
1	10.34	1.66	Male	No	Sun	Dinner	3
2	21.01	3.50	Male	No	Sun	Dinner	3
3	23.68	3.31	Male	No	Sun	Dinner	2
4	24.59	3.61	Female	No	Sun	Dinner	4
data.head(10)
total_bill	tip	sex	smoker	day	time	size
0	16.99	1.01	Female	No	Sun	Dinner	2
1	10.34	1.66	Male	No	Sun	Dinner	3
2	21.01	3.50	Male	No	Sun	Dinner	3
3	23.68	3.31	Male	No	Sun	Dinner	2
4	24.59	3.61	Female	No	Sun	Dinner	4
5	25.29	4.71	Male	No	Sun	Dinner	4
6	8.77	2.00	Male	No	Sun	Dinner	2
7	26.88	3.12	Male	No	Sun	Dinner	4
8	15.04	1.96	Male	No	Sun	Dinner	2
9	14.78	3.23	Male	No	Sun	Dinner	2
data.tail()
total_bill	tip	sex	smoker	day	time	size
239	29.03	5.92	Male	No	Sat	Dinner	3
240	27.18	2.00	Female	Yes	Sat	Dinner	2
241	22.67	2.00	Male	Yes	Sat	Dinner	2
242	17.82	1.75	Male	No	Sat	Dinner	2
243	18.78	3.00	Female	No	Thur	Dinner	2
data.info()
RangeIndex: 244 entries, 0 to 243
Data columns (total 7 columns):
 #   Column      Non-Null Count  Dtype   
---  ------      --------------  -----   
 0   total_bill  244 non-null    float64 
 1   tip         244 non-null    float64 
 2   sex         244 non-null    category
 3   smoker      244 non-null    category
 4   day         244 non-null    category
 5   time        244 non-null    category
 6   size        244 non-null    int64   
dtypes: category(4), float64(2), int64(1)
memory usage: 7.4 KB
data.mean()
/usr/local/lib/python3.7/dist-packages/ipykernel_launcher.py:1: FutureWarning: Dropping of nuisance columns in DataFrame reductions (with 'numeric_only=None') is deprecated; in a future version this will raise TypeError.  Select only valid columns before calling the reduction.
  """Entry point for launching an IPython kernel.
total_bill    19.785943
tip            2.998279
size           2.569672
dtype: float64
data.median()
/usr/local/lib/python3.7/dist-packages/ipykernel_launcher.py:1: FutureWarning: Dropping of nuisance columns in DataFrame reductions (with 'numeric_only=None') is deprecated; in a future version this will raise TypeError.  Select only valid columns before calling the reduction.
  """Entry point for launching an IPython kernel.
total_bill    17.795
tip            2.900
size           2.000
dtype: float64
data.mode()
total_bill	tip	sex	smoker	day	time	size
0	13.42	2.0	Male	No	Sat	Dinner	2
data.kurt()
/usr/local/lib/python3.7/dist-packages/ipykernel_launcher.py:1: FutureWarning: Dropping of nuisance columns in DataFrame reductions (with 'numeric_only=None') is deprecated; in a future version this will raise TypeError.  Select only valid columns before calling the reduction.
  """Entry point for launching an IPython kernel.
total_bill    1.218484
tip           3.648376
size          1.731700
dtype: float64
data.std()
/usr/local/lib/python3.7/dist-packages/ipykernel_launcher.py:1: FutureWarning: Dropping of nuisance columns in DataFrame reductions (with 'numeric_only=None') is deprecated; in a future version this will raise TypeError.  Select only valid columns before calling the reduction.
  """Entry point for launching an IPython kernel.
total_bill    8.902412
tip           1.383638
size          0.951100
dtype: float64
Handling Missing Values

import pandas as pd
import numpy as np
df=pd.DataFrame({'a':[1,2,np.nan],'b':[1,np.nan,np.nan],'c':[1,2,3]})

df
a	b	c
0	1.0	1.0	1
1	2.0	NaN	2
2	NaN	NaN	3
df.isna()
a	b	c
0	False	False	False
1	False	True	False
2	True	True	False
df.isna().any()
a     True
b     True
c    False
dtype: bool
df.isna().sum()
a    1
b    2
c    0
dtype: int64
df.dropna()
a	b	c
0	1.0	1.0	1
df.mean()
a    1.5
b    1.0
c    2.0
dtype: float64
df['a'].mean()
1.5
df['a'].fillna(df['a'].mean(),inplace=True)

df
a	b	c
0	1.0	1.0	1
1	2.0	NaN	2
2	1.5	NaN	3
df['b'].fillna(df['b'].median(),inplace=True)

df
a	b	c
0	1.0	1.0	1
1	2.0	1.0	2
2	1.5	1.0	3
Importing the Libraries

import pandas as pd
import matplotlib.pyplot as plt
import numpy as np
import seaborn as sns
Reading the dataset

import pandas as pd
data=pd.read_csv('/content/Admission_Predict.csv')
data.head()
Serial No.	GRE Score	TOEFL Score	University Rating	SOP	LOR	CGPA	Research	Chance of Admit
0	1	337	118	4	4.5	4.5	9.65	1	0.92
1	2	324	107	4	4.0	4.5	8.87	1	0.76
2	3	316	104	3	3.0	3.5	8.00	1	0.72
3	4	322	110	3	3.5	2.5	8.67	1	0.80
4	5	314	103	2	2.0	3.0	8.21	0	0.65
data.head(10)
Serial No.	GRE Score	TOEFL Score	University Rating	SOP	LOR	CGPA	Research	Chance of Admit
0	1	337	118	4	4.5	4.5	9.65	1	0.92
1	2	324	107	4	4.0	4.5	8.87	1	0.76
2	3	316	104	3	3.0	3.5	8.00	1	0.72
3	4	322	110	3	3.5	2.5	8.67	1	0.80
4	5	314	103	2	2.0	3.0	8.21	0	0.65
5	6	330	115	5	4.5	3.0	9.34	1	0.90
6	7	321	109	3	3.0	4.0	8.20	1	0.75
7	8	308	101	2	3.0	4.0	7.90	0	0.68
8	9	302	102	1	2.0	1.5	8.00	0	0.50
9	10	323	108	3	3.5	3.0	8.60	0	0.45
data.tail()
Serial No.	GRE Score	TOEFL Score	University Rating	SOP	LOR	CGPA	Research	Chance of Admit
395	396	324	110	3	3.5	3.5	9.04	1	0.82
396	397	325	107	3	3.0	3.5	9.11	1	0.84
397	398	330	116	4	5.0	4.5	9.45	1	0.91
398	399	312	103	3	3.5	4.0	8.78	0	0.67
399	400	333	117	4	5.0	4.0	9.66	1	0.95
data.tail(10)
Serial No.	GRE Score	TOEFL Score	University Rating	SOP	LOR	CGPA	Research	Chance of Admit
390	391	314	102	2	2.0	2.5	8.24	0	0.64
391	392	318	106	3	2.0	3.0	8.65	0	0.71
392	393	326	112	4	4.0	3.5	9.12	1	0.84
393	394	317	104	2	3.0	3.0	8.76	0	0.77
394	395	329	111	4	4.5	4.0	9.23	1	0.89
395	396	324	110	3	3.5	3.5	9.04	1	0.82
396	397	325	107	3	3.0	3.5	9.11	1	0.84
397	398	330	116	4	5.0	4.5	9.45	1	0.91
398	399	312	103	3	3.5	4.0	8.78	0	0.67
399	400	333	117	4	5.0	4.0	9.66	1	0.95
data.info()
RangeIndex: 400 entries, 0 to 399
Data columns (total 9 columns):
 #   Column             Non-Null Count  Dtype  
---  ------             --------------  -----  
 0   Serial No.         400 non-null    int64  
 1   GRE Score          400 non-null    int64  
 2   TOEFL Score        400 non-null    int64  
 3   University Rating  400 non-null    int64  
 4   SOP                400 non-null    float64
 5   LOR                400 non-null    float64
 6   CGPA               400 non-null    float64
 7   Research           400 non-null    int64  
 8   Chance of Admit    400 non-null    float64
dtypes: float64(4), int64(5)
memory usage: 28.2 KB
Splittig the Data into Train And Test

y=data['GRE Score']
y
0      337
1      324
2      316
3      322
4      314
      ... 
395    324
396    325
397    330
398    312
399    333
Name: GRE Score, Length: 400, dtype: int64
x=data.drop(columns=['GRE Score'],axis=1)
x.head()
Serial No.	TOEFL Score	University Rating	SOP	LOR	CGPA	Research	Chance of Admit
0	1	118	4	4.5	4.5	9.65	1	0.92
1	2	107	4	4.0	4.5	8.87	1	0.76
2	3	104	3	3.0	3.5	8.00	1	0.72
3	4	110	3	3.5	2.5	8.67	1	0.80
4	5	103	2	2.0	3.0	8.21	0	0.65
from sklearn.model_selection import train_test_split
x_train,x_test,y_train,y_test=train_test_split(x,y,test_size=0.2,random_state=50)
x_train.shape
(320, 8)
x_test.shape
(80, 8)
y_train.shape
(320,)
y_test.shape
(80,)
print(x_train.shape,x_test.shape)
(320, 8) (80, 8)
Splitting dependent and independent columns

x=data.iloc[:,1:7]
x
GRE Score	TOEFL Score	University Rating	SOP	LOR	CGPA
0	337	118	4	4.5	4.5	9.65
1	324	107	4	4.0	4.5	8.87
2	316	104	3	3.0	3.5	8.00
3	322	110	3	3.5	2.5	8.67
4	314	103	2	2.0	3.0	8.21
...	...	...	...	...	...	...
395	324	110	3	3.5	3.5	9.04
396	325	107	3	3.0	3.5	9.11
397	330	116	4	5.0	4.5	9.45
398	312	103	3	3.5	4.0	8.78
399	333	117	4	5.0	4.0	9.66
400 rows × 6 columns

y=data.iloc[:,8]
y
0      0.92
1      0.76
2      0.72
3      0.80
4      0.65
       ... 
395    0.82
396    0.84
397    0.91
398    0.67
399    0.95
Name: Chance of Admit , Length: 400, dtype: float64
